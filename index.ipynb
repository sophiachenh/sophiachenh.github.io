{
  "nbformat": 4,
  "nbformat_minor": 0,
  "metadata": {
    "colab": {
      "provenance": []
    },
    "kernelspec": {
      "name": "python3",
      "display_name": "Python 3"
    },
    "language_info": {
      "name": "python"
    }
  },
  "cells": [
    {
      "cell_type": "markdown",
      "source": [
        "# **Spotify Analysis**\n",
        "### **Spring 2024 Data Science Project**\n",
        "\n",
        "Sophia Chen, Katherine Li, Shrey Nair"
      ],
      "metadata": {
        "id": "uk1rVh8wYlJW"
      }
    },
    {
      "cell_type": "markdown",
      "source": [
        "# **Introduction**\n",
        "\n",
        "Music is a core part of billions of lives all around the globe. On Spotify alone, there are 615 million users and 11 million artists. Here, we are analyzing songs to see how their different features correlate with their popularity, finding out what elements contribute to their stream counts. Some questions we are trying to answer are: What features most affect popularity and stream count? And does the time of a song’s release influence its popularity? These questions are important to explore so that artists know what would get them more streams, whether that be how to incorporate the specific features that enhance the songs or when they should release their music. Providing these insights to artists would help them optimize their reach and impact, revolutionizing the music industry."
      ],
      "metadata": {
        "id": "UpKpkqAzZ6ZU"
      }
    }
  ]
}